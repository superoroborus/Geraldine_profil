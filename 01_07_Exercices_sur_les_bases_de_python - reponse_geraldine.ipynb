{
 "cells": [
  {
   "cell_type": "markdown",
   "metadata": {},
   "source": [
    "# Exo 1 : Devine le nombre"
   ]
  },
  {
   "cell_type": "markdown",
   "metadata": {},
   "source": [
    "Ecris une fonction nommée `devinette` qui ne prend aucun argument. Quand on l'exécute, elle choisit un nombre aléatoire en 0 et 100 (inclus)et demande à l'utilisateur de deviner ce nombre.A chaque fois que l'utilisateur entre un nombre, le programme affiche l'une de ces phrases : \n",
    "* Trop grand\n",
    "* Trop petit\n",
    "* Exact\n",
    "\n",
    "Si l'utilisateur a choisit correctement, le programme s'arrete. Sinon, le programme demande encore à l'utilisateur de rentrer un nouveau nombre jusqu'à ce qu'il trouve la bonne solution et s'arrête.\n",
    "\n",
    "> Aide : Cherche le module `random` de Python pour générer un nombre aléatoirement.\n"
   ]
  },
  {
   "cell_type": "markdown",
   "metadata": {},
   "source": [
    "Utilisation du module random Python : https://docs.python.org/fr/3/library/random.html"
   ]
  },
  {
   "cell_type": "code",
   "execution_count": null,
   "metadata": {},
   "outputs": [],
   "source": [
    "# fonction nommée devinette ()\n",
    "# nombre --> [0;101]  (entrées)\n",
    "# réponse --> input   (sortie)\n",
    "# Ecrire une boucle prenant en compte les essais \n",
    "# tant que imput =! nombre\n",
    "# Execution de devinette ()"
   ]
  },
  {
   "cell_type": "code",
   "execution_count": 1,
   "metadata": {},
   "outputs": [],
   "source": [
    "from random import randrange\n",
    "\n",
    "def devinette():\n",
    "    nombre = randrange(0, 101, 2)  # choisir un nombre aléatoire entre 0 et 100 inclus, par pas de 2\n",
    "    essais = 0  # initialiser le nombre d’essais à 0\n",
    "    print(\"Devinez le nombre choisi par l’ordinateur entre 0 et 100.\")  # demander à l’utilisateur de deviner le nombre\n",
    "    while True:  # tant que l’utilisateur n’a pas trouvé le nombre\n",
    "        essais += 1  # augmenter le nombre d’essais de 1\n",
    "        reponse = int(input(\"Votre réponse : \"))  # lire la réponse de l’utilisateur\n",
    "        if reponse == nombre:  # si la réponse est égale au nombre\n",
    "            print(f\"Bravo ! Vous avez trouvé le nombre {nombre} en {essais} essais.\")\n",
    "            break  # sortir de la boucle\n",
    "        elif reponse < nombre:  # sinon, si la réponse est inférieure au nombre\n",
    "            print(\"Le nombre est plus grand.\")  # indiquer à l’utilisateur que le nombre est plus grand\n",
    "        else:\n",
    "            print(\"Le nombre est plus petit.\")\n",
    "\n",
    "devinette()"
   ]
  },
  {
   "cell_type": "markdown",
   "metadata": {},
   "source": [
    "Autre solution :"
   ]
  },
  {
   "cell_type": "code",
   "execution_count": 1,
   "metadata": {},
   "outputs": [
    {
     "name": "stdout",
     "output_type": "stream",
     "text": [
      "Devinez le nombre choisi par l’ordinateur entre 0 et 100.\n",
      "Votre réponse : 50\n",
      "Le nombre est plus petit.\n",
      "Votre réponse : 40\n",
      "Le nombre est plus petit.\n",
      "Votre réponse : 30\n",
      "Le nombre est plus petit.\n",
      "Votre réponse : 20\n",
      "Le nombre est plus petit.\n",
      "Votre réponse : 10\n",
      "Le nombre est plus grand.\n",
      "Votre réponse : 15\n",
      "Le nombre est plus petit.\n",
      "Votre réponse : 14\n",
      "Bravo ! Vous avez trouvé le nombre 14 en 6 essais.\n"
     ]
    }
   ],
   "source": [
    "from random import randrange\n",
    "\n",
    "def devinette():\n",
    "    nombre = randrange(0, 101, 2)  # choisir un nombre aléatoire entre 0 et 100 inclus, par pas de 2\n",
    "    essais = 0  # initialiser le nombre d’essais à 0\n",
    "    print(\"Devinez le nombre choisi par l’ordinateur entre 0 et 100.\")  # demander à l’utilisateur de deviner le nombre\n",
    "    reponse = int(input(\"Votre réponse : \"))\n",
    "    while reponse != nombre:  # tant que l’utilisateur n’a pas trouvé le nombre\n",
    "        essais += 1  # augmenter le nombre d’essais de 1\n",
    "        if reponse < nombre:  # si la réponse est inférieure au nombre\n",
    "            print(\"Le nombre est plus grand.\")  # indiquer à l’utilisateur que le nombre est plus grand\n",
    "        else:\n",
    "            print(\"Le nombre est plus petit.\")\n",
    "        reponse = int(input(\"Votre réponse : \"))  # lire la réponse de l’utilisateur\n",
    "    print(f\"Bravo ! Vous avez trouvé le nombre {nombre} en {essais} essais.\")\n",
    "\n",
    "devinette()"
   ]
  },
  {
   "cell_type": "markdown",
   "metadata": {},
   "source": [
    "# Exo 2: Devine le nombre: Niveau 2"
   ]
  },
  {
   "cell_type": "markdown",
   "metadata": {},
   "source": [
    "Reprend ton code pour le programme précédent. Modifie le pour donner seulement 3 chances à l'utilisateur pour deviner le nombre aléatoire choisit. Après 3 tentatives echouées, le programme s'arrête et affiche à l'utilisateur qu'il a épuisé ses chances."
   ]
  },
  {
   "cell_type": "markdown",
   "metadata": {},
   "source": [
    " Pour modifier le code précédant il est plus simple de faire une boucle for allant de 1 au nombre d'essai max."
   ]
  },
  {
   "cell_type": "code",
   "execution_count": null,
   "metadata": {},
   "outputs": [],
   "source": [
    "from random import randrange\n",
    "\n",
    "\n",
    "def devinette():\n",
    "    nombre = randrange(0, 101, 2)  # choisir un nombre aléatoire entre 0 et 100 inclus, par pas de 2\n",
    "    max_essais = 3  # initialiser le nombre d’essais à 0\n",
    "    print(\"Devinez le nombre choisi par l’ordinateur entre 0 et 100.\")  # demander à l’utilisateur de deviner le nombre\n",
    "    for essais in range(1,max_essais +1):\n",
    "        reponse = int(input(\"Votre réponse : \"))  # lire la réponse de l’utilisateur\n",
    "        if reponse == nombre:  # si la réponse est égale au nombre\n",
    "            print(f\"Bravo ! Vous avez trouvé le nombre {nombre} en {essais} essais.\")\n",
    "            break  # sortir de la boucle\n",
    "        elif reponse < nombre:  # sinon, si la réponse est inférieure au nombre\n",
    "            print(\"Le nombre est plus grand.\")  # indiquer à l’utilisateur que le nombre est plus grand\n",
    "        else:\n",
    "            print(\"Le nombre est plus petit.\")\n",
    "        if essais == max_essais:\n",
    "            print(f\"Dommage ! Vous n’avez pas trouvé le nombre {nombre} en {max_essais} essais.\")\n",
    "\n",
    "devinette()"
   ]
  },
  {
   "cell_type": "code",
   "execution_count": null,
   "metadata": {},
   "outputs": [],
   "source": [
    "from random import randrange\n",
    "\n",
    "\n",
    "def devinette():\n",
    "    nombre = randrange(0, 101, 2)  # choisir un nombre aléatoire entre 0 et 100 inclus, par pas de 2\n",
    "    max_essais = 3  # initialiser le nombre d’essais à 0\n",
    "    print(\"Devinez le nombre choisi par l’ordinateur entre 0 et 100.\")  # demander à l’utilisateur de deviner le nombre\n",
    "    for essais in range(1,max_essais +1):\n",
    "        reponse = int(input(\"Votre réponse : \"))  # lire la réponse de l’utilisateur\n",
    "        if reponse == nombre:  # si la réponse est égale au nombre\n",
    "            print(f\"Bravo ! Vous avez trouvé le nombre {nombre} en {essais} essais.\")\n",
    "            break  # sortir de la boucle\n",
    "        elif reponse < nombre:  # sinon, si la réponse est inférieure au nombre\n",
    "            print(\"Le nombre est plus grand.\")  # indiquer à l’utilisateur que le nombre est plus grand\n",
    "        else:\n",
    "            print(\"Le nombre est plus petit.\")\n",
    "        if essais == max_essais:\n",
    "            print(f\"Dommage ! Vous n’avez pas trouvé le nombre {nombre} en {max_essais} essais.\")\n",
    "\n",
    "\n",
    "if __name__ == '__main__':\n",
    "    devinette()"
   ]
  },
  {
   "cell_type": "markdown",
   "metadata": {},
   "source": [
    "# Exo 3 : La fonction sum"
   ]
  },
  {
   "cell_type": "markdown",
   "metadata": {},
   "source": [
    "En Python, la fonction sum te permet de faire la somme des nombres d'une liste. Par exemple:"
   ]
  },
  {
   "cell_type": "code",
   "execution_count": 1,
   "metadata": {},
   "outputs": [
    {
     "data": {
      "text/plain": [
       "34"
      ]
     },
     "execution_count": 1,
     "metadata": {},
     "output_type": "execute_result"
    }
   ],
   "source": [
    "nombres = [5,2,6,8,9,4]\n",
    "sum(nombres)"
   ]
  },
  {
   "cell_type": "markdown",
   "metadata": {},
   "source": [
    "Dans cet exercice, nous allons réecrire cette fonction mais nous la nommerons `somme`. La fonction somme prend en entrée une liste de nombres et renvoie la somme de ces nombres. Ici, vous n'avez pas le droit d'utiliser la fonction `sum` de Python. Le but de cet exercice est d'apprendre à implémenter une fonction qui existe déjà et gagner en confiance sur nos capacités à faire des choses que d'autres programmeurs plus expérimentés ont déjà fait."
   ]
  },
  {
   "cell_type": "code",
   "execution_count": null,
   "metadata": {},
   "outputs": [],
   "source": [
    "# fonction somme (liste de nombres)\n",
    "# nombres --> sommes (entrées --> sorties)\n",
    "# boucle for pour faire la somme sans la fonction \"sum\"\n",
    "# return somme de ces nombres"
   ]
  },
  {
   "cell_type": "code",
   "execution_count": null,
   "metadata": {},
   "outputs": [],
   "source": [
    "nombres = [5, 2, 6, 8, 9, 4]\n",
    "resultat = 0\n",
    "for n in nombres:\n",
    "    resultat = resultat + n\n",
    "print(resultat)"
   ]
  },
  {
   "cell_type": "code",
   "execution_count": null,
   "metadata": {},
   "outputs": [],
   "source": [
    "def somme(nombres):\n",
    "    resultat = 0\n",
    "    for n in nombres:\n",
    "        resultat = resultat + n\n",
    "\n",
    "    return resultat\n",
    "\n",
    "\n",
    "if __name__ == '__main__':\n",
    "\n",
    "    nombres = [5, 2, 6, 8, 9, 4]\n",
    "    print(somme)"
   ]
  },
  {
   "cell_type": "code",
   "execution_count": null,
   "metadata": {},
   "outputs": [],
   "source": [
    "Corrigé par copilote :"
   ]
  },
  {
   "cell_type": "code",
   "execution_count": null,
   "metadata": {},
   "outputs": [],
   "source": [
    "def somme(nombres):\n",
    "    resultat = 0\n",
    "    for n in nombres:\n",
    "        resultat = resultat + n\n",
    "\n",
    "    return resultat\n",
    "\n",
    "\n",
    "if __name__ == '__main__':\n",
    "\n",
    "    nombres = [5, 2, 6, 8, 9, 4]\n",
    "    print(somme(nombres))  # Appelle la fonction somme avec l'argument nombres"
   ]
  },
  {
   "cell_type": "markdown",
   "metadata": {},
   "source": [
    "# Exo 4 : Adresse email de nos employées"
   ]
  },
  {
   "cell_type": "markdown",
   "metadata": {},
   "source": [
    "Vous êtes chargé d'octroyer les emails des nouveaux employés de votre entreprise. Vous travaillez chez PythonBoss.\n",
    "L'adresse email de vos employés est sous le format `prenom_nom@pythonboss.com`. Vous souhaitez écrire un programme pour automatiser cela. La programme demande à un utilisateur son prenom, puis son nom et affiche son adresse email. Par exemple Kevin Degila aura comme adresse email : kevin_degila@pythonboss.com . Ici vous devrez remarquer que l'adresse email ne contient que des lettres miniscules: C'est la préférence du directeur de PythonBoss. Vous avez intérêt à le satisfaire."
   ]
  },
  {
   "cell_type": "code",
   "execution_count": null,
   "metadata": {},
   "outputs": [],
   "source": [
    "#  liste vide [] pour mettre le nom et prénom --> entrées\n",
    "# imput \"quel votre prénom\"\n",
    "# imput \"quel est votre nom\"\n",
    "# pour ch in liste :\n",
    "#     list.append\n",
    "# concatener email = prenom_nom@pythonboss.com\n",
    "# mettre en lowercase\n",
    "# print (email) --> sortie"
   ]
  },
  {
   "cell_type": "code",
   "execution_count": null,
   "metadata": {},
   "outputs": [],
   "source": [
    "print(\"Veuillez entrer votre prénom et votre nom : \", end=\" \")\n",
    "ch = input()\n",
    "liste_ch = []\n",
    "for ch in list :\n",
    "    s = '_'.join(liste)\n",
    "    email = s'@pythonboss.com'\n",
    "    email.lowercase\n",
    "print (email)"
   ]
  },
  {
   "cell_type": "markdown",
   "metadata": {},
   "source": [
    "Je demande à copilote de corriger le code précédant"
   ]
  },
  {
   "cell_type": "code",
   "execution_count": null,
   "metadata": {},
   "outputs": [],
   "source": [
    "print(\"Veuillez entrer votre prénom et votre nom : \", end=\" \")\n",
    "ch = input()\n",
    "liste_ch = ch.split() # Divise la chaîne en une liste de mots\n",
    "s = '_'.join(liste_ch) # Joint les mots avec un underscore\n",
    "email = s + '@pythonboss.com' # Crée l'adresse e-mail\n",
    "email = email.lower() # Convertit l'adresse e-mail en minuscules\n",
    "print (email)"
   ]
  },
  {
   "cell_type": "code",
   "execution_count": null,
   "metadata": {},
   "outputs": [],
   "source": [
    "def mail(ch):\n",
    "    liste_ch = ch.split()  # Divise la chaîne en une liste de mots\n",
    "    s = '_'.join(liste_ch)  # Joint les mots avec un underscore\n",
    "    email = s + '@pythonboss.com'  # Crée l'adresse e-mail\n",
    "    email = email.lower()  # Convertit l'adresse e-mail en minuscules\n",
    "    return email\n",
    "\n",
    "if __name__ == '__main__':\n",
    "    print(\"Veuillez entrer votre prénom et votre nom : \", end=\" \")\n",
    "    ch = input()\n",
    "    print(mail(ch))  # Imprime le résultat de la fonction mail(ch)"
   ]
  },
  {
   "cell_type": "markdown",
   "metadata": {},
   "source": [
    "# Exo 5 : Ordonner une chaine de caractères"
   ]
  },
  {
   "cell_type": "markdown",
   "metadata": {},
   "source": [
    "Dans cet exercice, vous allez écrire une fonction `ordonne_str` qui prend une chaîne de caractères (string) et retourne ce même string mais en l'ordonnant par ordre alphabétique.\n",
    "\n",
    "Par exemple:\n",
    "```python\n",
    "ordonne_str('python')\n",
    "> 'hnopty'\n",
    "```"
   ]
  },
  {
   "cell_type": "code",
   "execution_count": null,
   "metadata": {},
   "outputs": [],
   "source": [
    "# ch = \"\"\n",
    "#  fonction ordonne_str (ch):\n",
    "#         liste vide []\n",
    "#         pour ch in list\n",
    "#         liste.append ch\n",
    "#         liste.sort\n",
    "#  print list"
   ]
  },
  {
   "cell_type": "code",
   "execution_count": null,
   "metadata": {},
   "outputs": [],
   "source": [
    "def ordonne_str (ch):\n",
    "    liste_ch = ch.split()\n",
    "    sorted_list = liste_ch.sort\n",
    "    return sorted_list\n",
    "\n",
    "if __name__ == '__main__':\n",
    "    ch = 'python'\n",
    "    print (sorted_list)"
   ]
  },
  {
   "cell_type": "markdown",
   "metadata": {},
   "source": [
    "Version corrigé par copilote, j'avait split la chaine alors qu'il fallait join"
   ]
  },
  {
   "cell_type": "code",
   "execution_count": null,
   "metadata": {},
   "outputs": [],
   "source": [
    "def ordonne_str(ch):\n",
    "    liste_ch = sorted(ch)  # Trie les caractères de la chaîne\n",
    "    sorted_str = ''.join(liste_ch)  # Joint les caractères triés en une seule chaîne\n",
    "    return sorted_str\n",
    "\n",
    "if __name__ == '__main__':\n",
    "    ch = 'python'\n",
    "    print(ordonne_str(ch))  # Imprime le résultat de la fonction ordonne_str(ch)\n"
   ]
  },
  {
   "cell_type": "markdown",
   "metadata": {},
   "source": [
    "# Exo 6 : Le Francais sans Voyelle"
   ]
  },
  {
   "cell_type": "markdown",
   "metadata": {},
   "source": [
    "A quoi ressemblerait le Français sans voyelle ? Nous allons écrire une fonction qui prend une chaine de caractères et enlève les voyelles. \n",
    "> Pour rappel, les voyelles en français sont : a e i o u y\n",
    "\n",
    "Par exemple : \n",
    "```python\n",
    "sans_voyelle('python')\n",
    "> 'pthn'\n",
    "```"
   ]
  },
  {
   "cell_type": "code",
   "execution_count": null,
   "metadata": {},
   "outputs": [],
   "source": [
    "# ch = \"\" --> entrée\n",
    "# voyelle = [a e i o u y]\n",
    "# fonction sans_voyelle (ch):\n",
    "#     liste_ch = ch.split() --> on transforme la chaine de charactère en liste\n",
    "#     resultat = liste_ch-voyelle --> on enlève les voyelles \n",
    "# print (resultat)"
   ]
  },
  {
   "cell_type": "code",
   "execution_count": null,
   "metadata": {},
   "outputs": [],
   "source": [
    "def sans_voyelle(ch):\n",
    "    liste_ch = ch.split()\n",
    "    resultat = liste_ch-voyelle\n",
    "    return resultat\n",
    "\n",
    "if __name__ == '__main__':\n",
    "    ch = 'python'\n",
    "    voyelle = ['a''e''i''o''u''y']\n",
    "    print(sans_voyelle(ch))"
   ]
  },
  {
   "cell_type": "code",
   "execution_count": null,
   "metadata": {},
   "outputs": [],
   "source": [
    "def sans_voyelle(ch):\n",
    "    liste_ch = ch.split()\n",
    "    set_ch = set(liste_ch)\n",
    "    set_voyelles = set (voyelle)  \n",
    "    resultat = set_ch - set_voyelles\n",
    "    return resultat\n",
    "\n",
    "if __name__ == '__main__':\n",
    "    ch = 'python'\n",
    "    voyelle = ['a''e''i''o''u''y']\n",
    "    print(sans_voyelle(ch))"
   ]
  },
  {
   "cell_type": "markdown",
   "metadata": {},
   "source": [
    "code corrigé par copilote :"
   ]
  },
  {
   "cell_type": "code",
   "execution_count": null,
   "metadata": {},
   "outputs": [],
   "source": [
    "def sans_voyelle(ch):\n",
    "    set_ch = set(ch)  # Convertit la chaîne en un ensemble de caractères\n",
    "    set_voyelles = set('aeiouy')  # Crée un ensemble de voyelles\n",
    "    resultat = set_ch - set_voyelles  # Soustrait l'ensemble de voyelles de l'ensemble de caractères\n",
    "    return ''.join(resultat)  # Convertit l'ensemble résultant en une chaîne\n",
    "\n",
    "if __name__ == '__main__':\n",
    "    ch = 'python'\n",
    "    print(sans_voyelle(ch))  # Imprime le résultat de la fonction sans_voyelle(ch)"
   ]
  },
  {
   "cell_type": "markdown",
   "metadata": {},
   "source": [
    "Il reste un problème, le resultat est **tnhp** et non **pthn**"
   ]
  },
  {
   "cell_type": "code",
   "execution_count": null,
   "metadata": {},
   "outputs": [],
   "source": [
    "def sans_voyelle(ch):\n",
    "    set_ch = frozenset(ch)  # créer un ensemble non modifiable grâce à la fonction frozenset()\n",
    "    set_voyelles = set('aeiouy') \n",
    "    resultat = set_ch - set_voyelles  \n",
    "    return ''.join(resultat)  \n",
    "\n",
    "if __name__ == '__main__':\n",
    "    ch = 'python'\n",
    "    print(sans_voyelle(ch))  "
   ]
  },
  {
   "cell_type": "code",
   "execution_count": null,
   "metadata": {},
   "outputs": [],
   "source": [
    "# Voici ce que fait la fonction set : \n",
    "type(set_ch)\n",
    "<class 'set'>\n",
    "print(set_ch)\n",
    "{'h', 'p', 'n', 't', 'y', 'o'}"
   ]
  },
  {
   "cell_type": "markdown",
   "metadata": {},
   "source": [
    "# Exo 7 : Des phrases sans Voyelle autre que a"
   ]
  },
  {
   "cell_type": "markdown",
   "metadata": {},
   "source": [
    "Modifie la précedente fonction pour quelle prenne desormais en entrée une phrase, c'est à dire des mots séparés par des espaces. Il enlève toutes les voyelles sauf la lettre a.\n",
    "Par exemple : \n",
    "```python\n",
    "sans_voyelle('Il fait tres beau ce matin')\n",
    "> 'l fat trs ba c mtn'\n",
    "```\n"
   ]
  },
  {
   "cell_type": "code",
   "execution_count": null,
   "metadata": {},
   "outputs": [],
   "source": [
    "def sans_voyelle(texte):\n",
    "#     il faut split la phrase en liste de mots\n",
    "    mots = texte.split()\n",
    "    set_voyelles = set('eiouy')  # Crée un ensemble de voyelles\n",
    "    resultat = mots - set_voyelles  # Soustrait l'ensemble de voyelles de l'ensemble de caractères\n",
    "    return ''.join(resultat)  # Convertit l'ensemble résultant en une chaîne\n",
    "\n",
    "if __name__ == '__main__':\n",
    "    texte = 'Il fait tres beau ce matin'\n",
    "    print(sans_voyelle(texte))  # Imprime le résultat de la fonction sans_voyelle(ch)"
   ]
  },
  {
   "cell_type": "markdown",
   "metadata": {},
   "source": [
    "code corrigé par copilot avec ajout d'une boucle for et d'une comprehension de liste :"
   ]
  },
  {
   "cell_type": "code",
   "execution_count": null,
   "metadata": {},
   "outputs": [],
   "source": [
    "def sans_voyelle(texte):\n",
    "    mots = texte.split()  # Divise la chaîne en une liste de mots\n",
    "    set_voyelles = set('eiouy')  # Crée un ensemble de voyelles\n",
    "    resultat = []\n",
    "    for mot in mots:  # Parcourt chaque mot\n",
    "        nouveau_mot = [lettre for lettre in mot if lettre.lower() not in set_voyelles]  # Supprime les voyelles de chaque mot\n",
    "        resultat.append(''.join(nouveau_mot))  # Ajoute le nouveau mot à la liste résultat\n",
    "    return ' '.join(resultat)  # Convertit la liste résultat en une chaîne\n",
    "\n",
    "if __name__ == '__main__':\n",
    "    texte = 'Il fait tres beau ce matin'\n",
    "    print(sans_voyelle(texte))  # Imprime le résultat de la fonction sans_voyelle(ch)\n"
   ]
  },
  {
   "cell_type": "markdown",
   "metadata": {},
   "source": [
    "La ligne de code est un exemple de **compréhension de liste** en Python, qui est une façon concise de créer des listes. Voici comment elle fonctionne :\n",
    "\n",
    "**for lettre in mot** : Cette partie parcourt chaque lettre dans le mot.  \n",
    "**if lettre.lower() not in set_voyelles** : Cette condition vérifie si la lettre (convertie en minuscule avec .lower()) n’est pas une voyelle (c’est-à-dire qu’elle n’est pas dans set_voyelles).\n",
    "[lettre ...] : Si la condition est vraie, la lettre est ajoutée à la nouvelle liste.  \n",
    "Donc, **nouveau_mot = [lettre for lettre in mot if lettre.lower() not in set_voyelles]** crée une nouvelle liste contenant toutes les lettres du mot qui ne sont pas des voyelles. Le résultat est une liste de lettres, donc pour obtenir un mot sous forme de chaîne, vous pouvez utiliser ''.join(nouveau_mot). Cela joint toutes les lettres de la liste en une seule chaîne, sans espaces entre elles."
   ]
  },
  {
   "cell_type": "code",
   "execution_count": null,
   "metadata": {},
   "outputs": [],
   "source": [
    "def sans_voyelle(texte):\n",
    "    mots = texte.split()  # Divise la chaîne en une liste de mots\n",
    "    set_voyelles = set('eiouy')  # Crée un ensemble de voyelles\n",
    "    resultat = []\n",
    "    for mot in mots:  # Parcourt chaque mot\n",
    "        nouveau_mot = ''  # Crée une nouvelle chaîne pour le mot sans voyelles\n",
    "        for lettre in mot:  # Parcourt chaque lettre du mot\n",
    "            if lettre.lower() not in set_voyelles:  # Si la lettre n'est pas une voyelle\n",
    "                nouveau_mot += lettre  # Ajoute la lettre à nouveau_mot\n",
    "        resultat.append(nouveau_mot)  # Ajoute le nouveau mot à la liste résultat\n",
    "    return ' '.join(resultat)  # Convertit la liste résultat en une chaîne\n",
    "\n",
    "if __name__ == '__main__':\n",
    "    texte = 'Il fait tres beau ce matin'\n",
    "    print(sans_voyelle(texte))  # Imprime le résultat de la fonction sans_voyelle(ch)\n"
   ]
  },
  {
   "cell_type": "markdown",
   "metadata": {},
   "source": [
    "# Exo 8 : Début et fin des séquences"
   ]
  },
  {
   "cell_type": "markdown",
   "metadata": {},
   "source": [
    "En Python, les listes, les tuples et les strings sont des séquences. En Python, on peut écrire une fonction qui prend différents types de variables. Dans cet exercice, nous allons écrire une fonction qui prend en Entrée, une liste, un tuple ou un string et retourne une variable du même type mais avec le premier et le dernier élément de la séquence.\n",
    "\n",
    "```python\n",
    "debut_fin('deopry')\n",
    "> 'dy'\n",
    "\n",
    "debut_fin([5,2,6,9,8])\n",
    "> [5, 8]\n",
    "\n",
    "debut_fin((2,6,8,9))\n",
    "> 2, 9\n",
    "\n",
    "```"
   ]
  },
  {
   "cell_type": "code",
   "execution_count": null,
   "metadata": {},
   "outputs": [],
   "source": [
    "# fonction debut_fin (entrée):\n",
    "# transformer en liste si l'entrée n'est pas une liste\n",
    "#parcourir chaque lettre de la liste avec boucle for\n",
    "# print (liste = [0] and liste =[-1] )  --> affiche l'index 0 et l'index-1"
   ]
  },
  {
   "cell_type": "code",
   "execution_count": null,
   "metadata": {},
   "outputs": [],
   "source": [
    "def debut_fin(entrée):\n",
    "    liste = entrée.split()\n",
    "    resultat = []\n",
    "    for lettre in liste :\n",
    "        premier_element = liste[0]\n",
    "        dernier_element = liste[-1]\n",
    "    resultat.append (premier_element,dernier_element)\n",
    "if __name__ == '__main__':\n",
    "    entrée = 'deopry'\n",
    "    debut_fin(entrée)"
   ]
  },
  {
   "cell_type": "markdown",
   "metadata": {},
   "source": [
    "Code corrigé par copilot :"
   ]
  },
  {
   "cell_type": "code",
   "execution_count": null,
   "metadata": {},
   "outputs": [],
   "source": [
    "def debut_fin(entrée):\n",
    "    resultat = []\n",
    "    premier_element = entrée[0]\n",
    "    dernier_element = entrée[-1]\n",
    "    resultat.append(premier_element)\n",
    "    resultat.append(dernier_element)\n",
    "    return resultat\n",
    "\n",
    "if __name__ == '__main__':\n",
    "    entrée = (2,6,8,9)\n",
    "    print(debut_fin(entrée))"
   ]
  },
  {
   "cell_type": "markdown",
   "metadata": {},
   "source": [
    "# Exo 9 : Dis moi ton index, je te dirai qui tu es"
   ]
  },
  {
   "cell_type": "markdown",
   "metadata": {},
   "source": [
    "Dans cet exercice, vous allez écrire une fonction qui prend entrée, une liste de nombre et retourne une liste contenant:\n",
    "* La somme des éléments d'index pairs\n",
    "* La somme des éléments d'index impairs\n",
    "\n",
    "```python\n",
    "somme_pair_impair([10,20,30,40,50,60])\n",
    "> [90, 120]\n",
    "```"
   ]
  },
  {
   "cell_type": "code",
   "execution_count": null,
   "metadata": {},
   "outputs": [],
   "source": [
    "# fonction somme_pair_impair (entrée_liste)\n",
    "#     pair = []\n",
    "#     impair = []\n",
    "#     parcourir la liste : pour élément dans entrée_liste\n",
    "#     si éléménent divisible par 2 = 0  --> pair %\n",
    "#     pair.append(élément_pair) --> mettre dans la liste pair\n",
    "#     sinon  --> élément impair\n",
    "#     impair.append(élément_impair) --> mettre dans la liste impair\n",
    "#     somme des élément de chaque liste : sum.pair et sum.impair\n",
    "#     concaténer les deux listes : pair+impair\n",
    "# afficher le resultat"
   ]
  },
  {
   "cell_type": "markdown",
   "metadata": {},
   "source": [
    "1 er essai de code : "
   ]
  },
  {
   "cell_type": "code",
   "execution_count": null,
   "metadata": {},
   "outputs": [],
   "source": [
    "def somme_pair_impair(entree_liste):\n",
    "    pair = []\n",
    "    impair = []\n",
    "    for i in range(len(entree_liste)):\n",
    "        entree_liste[i] = entree_liste[i] % 2\n",
    "        if entree_liste == 0 :\n",
    "            pair.append(entree_liste)\n",
    "        else:\n",
    "            impair.append(entree_liste)\n",
    "        somme_pair = sum(pair)\n",
    "        somme_impair = sum(impair)\n",
    "        resultat = somme_pair + somme_impair\n",
    "        return resultat\n",
    "\n",
    "\n",
    "if __name__ == '__main__':\n",
    "    entree_liste = [10, 20, 30, 40, 50, 60]\n",
    "    print(somme_pair_impair(entree_liste))"
   ]
  },
  {
   "cell_type": "markdown",
   "metadata": {},
   "source": [
    "code corrigé par copilot : il reste un problème concernant la somme des listes car mauvaise compréhension de l'ennoncé... Il faut trier les index et non les éléments."
   ]
  },
  {
   "cell_type": "code",
   "execution_count": null,
   "metadata": {},
   "outputs": [],
   "source": [
    "def somme_pair_impair(entree_liste):\n",
    "    pair = []\n",
    "    impair = []\n",
    "    for i in range(len(entree_liste)):\n",
    "        if entree_liste[i] % 2 == 0 :\n",
    "            pair.append(entree_liste[i])\n",
    "        else:\n",
    "            impair.append(entree_liste[i])\n",
    "    somme_pair = sum(pair)\n",
    "    somme_impair = sum(impair)\n",
    "    resultat = [somme_pair, somme_impair]\n",
    "    return resultat\n",
    "\n",
    "if __name__ == '__main__':\n",
    "    entree_liste = [10, 20, 30, 40, 50, 60]\n",
    "    print(somme_pair_impair(entree_liste))"
   ]
  },
  {
   "cell_type": "markdown",
   "metadata": {},
   "source": [
    "Code final corrigé par copilot avec des comprehensions de liste :"
   ]
  },
  {
   "cell_type": "code",
   "execution_count": null,
   "metadata": {},
   "outputs": [],
   "source": [
    "def somme_pair_impair(entree_liste):\n",
    "    pair = [entree_liste[i] for i in range(len(entree_liste)) if i % 2 == 0]\n",
    "    impair = [entree_liste[i] for i in range(len(entree_liste)) if i % 2 != 0]\n",
    "    somme_pair = sum(pair)\n",
    "    somme_impair = sum(impair)\n",
    "    resultat = [somme_pair, somme_impair]\n",
    "    return resultat\n",
    "\n",
    "if __name__ == '__main__':\n",
    "    entree_liste = [10, 20, 30, 40, 50, 60]\n",
    "    print(somme_pair_impair(entree_liste))"
   ]
  },
  {
   "cell_type": "markdown",
   "metadata": {},
   "source": [
    "# Exo 10 : Mot ayant le plus de lettre répétée"
   ]
  },
  {
   "cell_type": "markdown",
   "metadata": {},
   "source": [
    "Dans cet exercice, tu es appélé à écrire une fonction `mot_lettre_repetee` qui prend en entrée, une liste de mots. Pour chaque mot, trouve la lettre qui se répète le plus. La focntion retourne alors le mot ayant une lettre qui se répète le plus de fois (dans ce même mot, bien sûr).\n",
    "\n",
    "```python\n",
    "mot_lettre_repetee([\"On\", \"a\", \"effectuee\", \"plusieurs\", \"tests\", \"elementaire\", \"ce\", \"matin\"])\n",
    "> \"elementaire\"\n",
    "```\n",
    "En cas d'égalité, n'importe quelle option vraie est juste."
   ]
  },
  {
   "cell_type": "code",
   "execution_count": null,
   "metadata": {},
   "outputs": [],
   "source": [
    "# fonction mot_lettre_repetee (liste_mots):\n",
    "#     pour mot dans liste_mot : --> on parcours la liste\n",
    "#     pour lettre dans mot : --> on parcours chaque lettre \n",
    "#     compter le nombre d'occurence de chaque lettre pour chaque mot"
   ]
  },
  {
   "cell_type": "code",
   "execution_count": null,
   "metadata": {},
   "outputs": [],
   "source": [
    "from collections import Counter\n",
    "\n",
    "\n",
    "def mot_lettre_repetee(liste_mots):\n",
    "    mot = []\n",
    "    for mot in liste_mots:\n",
    "        frequence = Counter(mot)\n",
    "        print(\"Nombre d'occurrences de tous les caractères :\")\n",
    "        for (key, value) in frequence.items():\n",
    "            mot.append(frequence)\n",
    "            resultat = \"Nombre d'occurrences de \", key, \" est : \", value\n",
    "            return resultat\n",
    "\n",
    "\n",
    "if __name__ == '__main__':\n",
    "    liste_mots=[\"On\", \"a\", \"effectuee\", \"plusieurs\", \"tests\", \"elementaire\", \"ce\", \"matin\"]\n",
    "    print(mot_lettre_repetee(liste_mots))"
   ]
  },
  {
   "cell_type": "code",
   "execution_count": null,
   "metadata": {},
   "outputs": [],
   "source": [
    "code corrigé par copilot :"
   ]
  },
  {
   "cell_type": "code",
   "execution_count": null,
   "metadata": {},
   "outputs": [],
   "source": [
    "from collections import Counter\n",
    "\n",
    "def mot_lettre_repetee(liste_mots):\n",
    "    resultat = {}\n",
    "    for mot in liste_mots:\n",
    "        frequence = Counter(mot)\n",
    "        resultat[mot] = dict(frequence)\n",
    "    return resultat\n",
    "\n",
    "if __name__ == '__main__':\n",
    "    liste_mots = [\"On\", \"a\", \"effectuee\", \"plusieurs\", \"tests\", \"elementaire\", \"ce\", \"matin\"]\n",
    "    print(mot_lettre_repetee(liste_mots))"
   ]
  },
  {
   "cell_type": "code",
   "execution_count": null,
   "metadata": {},
   "outputs": [],
   "source": [
    "from collections import Counter\n",
    "\n",
    "def mot_lettre_repetee(liste_mots):\n",
    "    resultat = {}\n",
    "    for mot in liste_mots:\n",
    "        frequence = Counter(mot)\n",
    "        resultat[mot] = dict(frequence)\n",
    "    return resultat\n",
    "\n",
    "if __name__ == '__main__':\n",
    "    liste_mots = [\"On\", \"a\", \"effectuee\", \"plusieurs\", \"tests\", \"elementaire\", \"ce\", \"matin\"]\n",
    "    resultat = mot_lettre_repetee(liste_mots)\n",
    "    print(resultat)\n",
    "\n",
    "    # Créer un dictionnaire pour stocker la fréquence totale de chaque lettre\n",
    "    total_frequence = Counter()\n",
    "    for frequence in resultat.values():\n",
    "        total_frequence += Counter(frequence)\n",
    "\n",
    "    # Trouver la lettre avec la fréquence maximale\n",
    "    lettre_max = max(total_frequence, key=total_frequence.get)\n",
    "    print(\"La lettre qui apparaît le plus souvent est : \", lettre_max)\n",
    "\n",
    "    # Trouver le mot qui contient le plus souvent la lettre_max\n",
    "    mot_max = max(resultat, key=lambda mot: resultat[mot].get(lettre_max, 0))\n",
    "    print(f\"Le mot qui contient le plus souvent la lettre '{lettre_max}' est : {mot_max}\")\n"
   ]
  },
  {
   "cell_type": "code",
   "execution_count": null,
   "metadata": {},
   "outputs": [],
   "source": [
    "# code refactorisé : \n",
    "from collections import Counter\n",
    "\n",
    "def calculer_frequence_lettres(liste_mots):\n",
    "    frequence_lettres_par_mot = {}\n",
    "    for mot in liste_mots:\n",
    "        frequence_lettres = Counter(mot)\n",
    "        frequence_lettres_par_mot[mot] = dict(frequence_lettres)\n",
    "    return frequence_lettres_par_mot\n",
    "\n",
    "def calculer_frequence_totale(frequence_lettres_par_mot):\n",
    "    frequence_totale = Counter()\n",
    "    for frequence in frequence_lettres_par_mot.values():\n",
    "        frequence_totale += Counter(frequence)\n",
    "    return frequence_totale\n",
    "\n",
    "def trouver_lettre_et_mot_max(frequence_lettres_par_mot, frequence_totale):\n",
    "    lettre_max = max(frequence_totale, key=frequence_totale.get)\n",
    "    mot_max = max(frequence_lettres_par_mot, key=lambda mot: frequence_lettres_par_mot[mot].get(lettre_max, 0))\n",
    "    return lettre_max, mot_max\n",
    "\n",
    "if __name__ == '__main__':\n",
    "    liste_mots = [\"On\", \"a\", \"effectuee\", \"plusieurs\", \"tests\", \"elementaire\", \"ce\", \"matin\"]\n",
    "    \n",
    "    frequence_lettres_par_mot = calculer_frequence_lettres(liste_mots)\n",
    "    print(frequence_lettres_par_mot)\n",
    "\n",
    "    frequence_totale = calculer_frequence_totale(frequence_lettres_par_mot)\n",
    "\n",
    "    lettre_max, mot_max = trouver_lettre_et_mot_max(frequence_lettres_par_mot, frequence_totale)\n",
    "    \n",
    "    print(\"La lettre qui apparaît le plus souvent est : \", lettre_max)\n",
    "    print(f\"Le mot qui contient le plus souvent la lettre '{lettre_max}' est : {mot_max}\")\n"
   ]
  },
  {
   "cell_type": "markdown",
   "metadata": {},
   "source": [
    "# Exo 11 : Distance entre plusieurs points"
   ]
  },
  {
   "cell_type": "markdown",
   "metadata": {},
   "source": [
    "Ecrivez une fonction qui prend une liste des nombres et qui retourne une liste qui contient la distance entre les différents nombres successifs.\n",
    "\n",
    "Exemple\n",
    "\n",
    "* input : [65, 54, 59]\n",
    "* output : [11, 5]\n"
   ]
  },
  {
   "cell_type": "code",
   "execution_count": null,
   "metadata": {},
   "outputs": [],
   "source": [
    "# fonction distance ():\n",
    "#     distance = {}  --> on crée un dictionnaire\n",
    "#     pour point dans liste :\n",
    "#         disance = point-point\n",
    "#         resultat[point] = dict(distance) --> on rajoute le resultat dans le dictionnaire"
   ]
  },
  {
   "cell_type": "code",
   "execution_count": null,
   "metadata": {},
   "outputs": [],
   "source": [
    "from math import sqrt\n",
    "\n",
    "\n",
    "def distance(x1, y1, x2, y2):\n",
    "\n",
    "\n",
    "    distance = {}\n",
    "    for point in liste:\n",
    "        disance = sqrt(Sqr(y2 - y1) + Sqr(x2 - x1))\n",
    "        resultat[point] = dict(distance)\n",
    "        return distance\n",
    "\n",
    "if __name__ == '__main__':\n",
    "    input = [65, 54, 59]\n",
    "    print(distance(x1, y1, x2, y2))\n"
   ]
  },
  {
   "cell_type": "markdown",
   "metadata": {},
   "source": [
    "code corrigé par copilot :"
   ]
  },
  {
   "cell_type": "code",
   "execution_count": null,
   "metadata": {},
   "outputs": [],
   "source": [
    "from math import sqrt\n",
    "\n",
    "def distance(input):\n",
    "    distance = {}\n",
    "    for i in range(len(input)-1):\n",
    "        distance_point = sqrt((input[i+1] - input[i])**2)\n",
    "        distance[(input[i], input[i+1])] = distance_point\n",
    "    return distance\n",
    "\n",
    "if __name__ == '__main__':\n",
    "    input = [65, 54, 59]\n",
    "    print(distance(input))"
   ]
  },
  {
   "cell_type": "markdown",
   "metadata": {},
   "source": [
    "# Exo 12: Lettres successifs et combien d'occurences"
   ]
  },
  {
   "cell_type": "markdown",
   "metadata": {},
   "source": [
    "Ecrivez une fonction qui prend en input une chaine de caractères contenant des lettres et retourne une liste de tuple qui contient successivement chaque lettre  et le nombre d'occurences successives.\n",
    "Exemple : \n",
    "\n",
    "* input : 'aaaccdaad\"\n",
    "* output : [(a,3), (c, 2), (d, 1), (a,2), (d, 1)]"
   ]
  },
  {
   "cell_type": "code",
   "execution_count": null,
   "metadata": {},
   "outputs": [],
   "source": [
    "# importer counter\n",
    "# fonction occurence (input) :\n",
    "#     occurence_lettre []\n",
    "#     pour lettre dans input :\n",
    "#         frequence_lettres = Counter(input)\n",
    "#     return frequence_lettres"
   ]
  },
  {
   "cell_type": "code",
   "execution_count": null,
   "metadata": {},
   "outputs": [],
   "source": [
    "from collections import Counter\n",
    "def occurence (input) :\n",
    "    occurence_lettre []\n",
    "    for lettre in input :\n",
    "        frequence_lettres = Counter(input)\n",
    "        lettre.append(frequence)\n",
    "        \n",
    "    return frequence_lettres\n",
    "\n",
    "if __name__ == '__main__':\n",
    "    input = 'aaaccdaad\"\n",
    "    print (occurence (input))"
   ]
  },
  {
   "cell_type": "markdown",
   "metadata": {},
   "source": [
    "**Code corrigé par copilot** : La méthode **items()** est une méthode intégrée en Python qui renvoie un objet de vue qui affiche une liste de tuples de dictionnaire, où chaque tuple contient une paire clé-valeur.\n",
    "\n",
    "Dans le contexte du code corrigé, frequence_lettres.items() renvoie une liste de tuples, où chaque tuple contient une lettre (la clé) et son nombre d’occurrences (la valeur) dans la chaîne input. Par exemple, si input est \"aaaccdaad\", alors frequence_lettres.items() renverra quelque chose comme [('a', 5), ('c', 2), ('d', 2)]."
   ]
  },
  {
   "cell_type": "code",
   "execution_count": null,
   "metadata": {},
   "outputs": [],
   "source": [
    "from collections import Counter\n",
    "\n",
    "def occurence(input):\n",
    "    frequence_lettres = Counter(input)\n",
    "    occurence_lettre = list(frequence_lettres.items())\n",
    "    return occurence_lettre\n",
    "\n",
    "if __name__ == '__main__':\n",
    "    input = \"aaaccdaad\"\n",
    "    print(occurence(input))"
   ]
  },
  {
   "cell_type": "markdown",
   "metadata": {},
   "source": [
    "# Exo 13: Notre restaurant est fermé à cause de la crise du covid, commandez en ligne"
   ]
  },
  {
   "cell_type": "markdown",
   "metadata": {},
   "source": [
    "Dans cet exercice, vous allez écrire le code pour l'application mobile de votre restaurant afin de permettre aux clients de commander en ligne.\n",
    "\n",
    "Vous allez d'abord définir un menu sous forme de dictionnaire. Les clés (chaines de caractères) sont les différents repas ou boissons que vous servez et les valeurs (integers ou float) sont leurs prix correspondants.\n",
    "Une fonction `restaurant` se chargera de demander à l'utilisateur sa commande:\n",
    "* Si la commande existe dans notre menu, le programme affiche son prix et le total actuel de ses commandes, puis lui demande d'entrée une nouvelle commande.\n",
    "* Si la commande n'existe pas dans notre menu, on le dit à l'utilisateur et lui demande de commander autre chose.\n",
    "* Si l'utilisateur appuie Entrée sans rien commander, on lui affiche le prix total de sa commande.\n",
    "\n",
    "Exemple : \n",
    "\n",
    "> Bienvenu dans notre Restaurant\n",
    "* Commande: Burger\n",
    "* Burger coûte 10, total est 10\n",
    "* Commande: cafe\n",
    "* cafe coûte 7, total est 17\n",
    "* Commande: Chicha\n",
    "* Désolé, Nous n'offrons pas de chicha aujourd'hui.\n",
    "* Commande: <entréee>\n",
    "* Votre total est 17"
   ]
  },
  {
   "cell_type": "code",
   "execution_count": null,
   "metadata": {},
   "outputs": [],
   "source": [
    "# Fonction restaurant (menu):\n",
    "#     Afficher ('Bienvenu dans notre Restaurant')\n",
    "#     entrer : \"f,que voulez-vous commander dans le {menu}?\"\n",
    "    \n",
    "# if __name__ == '__main__':\n",
    "#     menu = {dictionnaire avec menu : (burger;10), (sandwich; 7,5)...}\n",
    "#     afficher (menu)\n",
    "#     appel fonction"
   ]
  },
  {
   "cell_type": "code",
   "execution_count": null,
   "metadata": {},
   "outputs": [],
   "source": [
    "def restaurant(menu):\n",
    "    print(\"Bienvenue dans notre Restaurant\")\n",
    "    message = input (\"qu'avez-vous choisi ?\")\n",
    "    if message in menu :\n",
    "        print(\"f,vous avez choisi {message}\")\n",
    "        print(sum(menu.message()))\n",
    "    else:\n",
    "        print(\"veuillez-commander autre chose car ce n'est pas dans le menu\")\n",
    "    return message\n",
    "\n",
    "\n",
    "if __name__ == '__main__':\n",
    "    menu = {\"burger\": 10, \"sandwich\": 7.5, \"tacos\": 5, \"coca\": 2, \"cafe\":7, \"cheesecake\":6}\n",
    "    print (\"votre total est :\")\n",
    "    print(restaurant(menu))"
   ]
  },
  {
   "cell_type": "markdown",
   "metadata": {},
   "source": [
    "correction par copilot :"
   ]
  },
  {
   "cell_type": "code",
   "execution_count": null,
   "metadata": {},
   "outputs": [],
   "source": [
    "def restaurant(menu):\n",
    "    print(\"Bienvenue dans notre Restaurant\")\n",
    "    message = input (\"qu'avez-vous choisi ?\")\n",
    "    if message in menu :\n",
    "        print(f\"Vous avez choisi {message}\")\n",
    "        print(f\"Le prix est : {menu[message]}\")\n",
    "    else:\n",
    "        print(\"Veuillez commander autre chose car ce n'est pas dans le menu\")\n",
    "    return message\n",
    "\n",
    "if __name__ == '__main__':\n",
    "    menu = {\"burger\": 10, \"sandwich\": 7.5, \"tacos\": 5, \"coca\": 2, \"cafe\":7, \"cheesecake\":6}\n",
    "    restaurant(menu)\n"
   ]
  },
  {
   "cell_type": "markdown",
   "metadata": {},
   "source": [
    "ajout d'option pour choisi plusieurs item :"
   ]
  },
  {
   "cell_type": "code",
   "execution_count": null,
   "metadata": {},
   "outputs": [],
   "source": [
    "def restaurant(menu):\n",
    "    commande = []\n",
    "    print(\"Bienvenue dans notre Restaurant\")\n",
    "    while True:\n",
    "        message = input (\"qu'avez-vous choisi ? (tapez 'fin' pour terminer votre commande)\")\n",
    "        if message.lower() == 'fin':\n",
    "            break\n",
    "        elif message not in menu:\n",
    "            print(\"Veuillez commander autre chose car ce n'est pas dans le menu\")\n",
    "        else:\n",
    "            commande.append(menu[message])\n",
    "            print(f\"Vous avez choisi {message}\")\n",
    "            print(f\"Le prix est : {menu[message]}\")\n",
    "    sum_commande = sum(commande)\n",
    "    print(f\"Le prix total est : {sum_commande}\")\n",
    "\n",
    "if __name__ == '__main__':\n",
    "    menu = {\"burger\": 10, \"sandwich\": 7.5, \"tacos\": 5, \"coca\": 2, \"cafe\":7, \"cheesecake\":6}\n",
    "    restaurant(menu)\n"
   ]
  },
  {
   "cell_type": "markdown",
   "metadata": {},
   "source": [
    "# Exo 14: Trop d'escale, c'est fatiguant"
   ]
  },
  {
   "cell_type": "markdown",
   "metadata": {},
   "source": [
    "Vous êtes dans une agence de voyage pour acheter un billet d'avion. Vous donnez la destination à l'agent qui vous informe, qu'il faudra faire des escales. Il vous dit alors la ville de chaque escale et la duree de chaque escale. Vous décidez d'enregistrer tout cela dans un dictionnaire pour l'afficher plus tard et la somme des heures d'escales.\n",
    "\n",
    "Vous allez écrire un programme qui demande à l'agent la ville (clé) et le nombre d'heure d'escale (valeur). Le programme lui repose la même question jusqu'à ce qu'il dit que c'est fini en appuyant entrée sans rien écrire. A la fin de la saisie, vous affichez les villes et leur nombre d'heures correspondant et le nombre d'heures total d'escale.\n",
    "\n",
    "Exemple:\n",
    "\n",
    "> Python Airlines\n",
    "* Ville: Paris, nb d'heures : 2\n",
    "* Ville: Nairobi, nb d'heures : 1\n",
    "* Ville: Bamako, nb d'heures : 0.5\n",
    "* Ville: Abuja, nb d'heures : 2.5\n",
    "* Ville: <entréee>\n",
    "\n",
    "Liste des escales : \n",
    "\n",
    "Paris 2,\n",
    "\n",
    "Nairobi 1,\n",
    "\n",
    "Bamako 0.5\n",
    "\n",
    "Abuja 2.5\n",
    "\n",
    "* Votre total d'heures d'escales est 6 heures"
   ]
  },
  {
   "cell_type": "code",
   "execution_count": null,
   "metadata": {},
   "outputs": [],
   "source": [
    "# fonction voyage (escales) :\n",
    "#     Tant que c'est vrai :\n",
    "#         agent = print (\"f,quels sont les {clé} et le nombre d'heure d'{valeur}\")\n",
    "#         si dictionnaier fini en tappant entrée sans rien écrire \n",
    "#         Break\n",
    "#         sum_escales = sum(escales)\n",
    "#         print(f\"Le prix total est : {sum_escales}\")\n",
    "\n",
    "# if __name__ == '__main__':\n",
    "#     escales {dictionnaires}\n",
    "#     appel fonction"
   ]
  },
  {
   "cell_type": "code",
   "execution_count": null,
   "metadata": {},
   "outputs": [],
   "source": [
    "def voyage(escales):\n",
    "    escales = \"\"\n",
    "    while True:\n",
    "        agent = print(\"f,quels sont les {villes} et le nombre d'heure d'{heures}\")\n",
    "        if escales.lower() == \"\":\n",
    "            break\n",
    "        sum_escales = sum(escales)\n",
    "        print(f\"Le prix total est : {sum_escales}\")\n",
    "        return agent\n",
    "\n",
    "if __name__ == '__main__':\n",
    "    escales = {\"Paris\": 2, \"Nairobi\": 1, \"Bamako\": 0.5, \"Abuja\": 2.5}\n",
    "    print(voyage(escales))"
   ]
  },
  {
   "cell_type": "markdown",
   "metadata": {},
   "source": [
    "Ce code permet d'afficher les escales et le total des heures quand on appuie sur \"entrée\" et il permet en plus de rajouter des villes en répondant aux questions"
   ]
  },
  {
   "cell_type": "code",
   "execution_count": null,
   "metadata": {},
   "outputs": [],
   "source": [
    "def voyage(escales):\n",
    "    while True:\n",
    "        ville = input(\"Quelle est la ville ? \")\n",
    "        if ville == \"\":\n",
    "            break\n",
    "        heures = float(input(\"Combien d'heures avez-vous passé dans cette ville ? \"))\n",
    "        escales[ville] = heures\n",
    "    sum_escales = sum(escales.values())\n",
    "    for ville, heures in escales.items():\n",
    "        print(f\"Ville : {ville}, Heures : {heures}\")\n",
    "    print(f\"Le prix total est : {sum_escales}\")\n",
    "    return sum_escales\n",
    "\n",
    "if __name__ == '__main__':\n",
    "    escales = {\"Paris\": 2, \"Nairobi\": 1, \"Bamako\": 0.5, \"Abuja\": 2.5}\n",
    "    print(voyage(escales))"
   ]
  },
  {
   "cell_type": "markdown",
   "metadata": {},
   "source": [
    "# Exo 15: Combien de mots il y a-t-il dans ton fichier ?"
   ]
  },
  {
   "cell_type": "markdown",
   "metadata": {},
   "source": [
    "Dans cet exercice, vous allez écrire une fonction `wordcount` qui prend en entrée le chemin d'un fichier et affiche les 4 lignes suivantes en sortie:\n",
    "\n",
    "* Le nombre de caractères (les espaces inclus) est ....\n",
    "* Le nombre de mots (séparé par des espaces: 25 est un mot) est .....\n",
    "* Le nombre de lignes est ....\n",
    "* Le nombre de mots distincts (\"Oui\" et \"oui\" sont 2 mots uniques) est .... (taille du vocabulaire du fichier)\n",
    "\n",
    "Un fichier texte nommée `count.txt` se trouve dans le dossier `datasets`. Vous pouvez l'utiliser pour tester votre code."
   ]
  },
  {
   "cell_type": "code",
   "execution_count": null,
   "metadata": {},
   "outputs": [],
   "source": [
    "# importer dataframe df\n",
    "# fonction wordcount (count.txt):\n",
    "#         ouvrir le fichier count.txt (\"Desktop/Projet-python/data-analyst-bootcamp/datasets/count.txt\")\n",
    "#         splitter les lignes dans une liste\n",
    "#         initialiser les variables\n",
    "#         pour chaque ligne dans lignes :\n",
    "#             traitement du nombre de ligne"
   ]
  },
  {
   "cell_type": "code",
   "execution_count": null,
   "metadata": {},
   "outputs": [],
   "source": [
    "import pandas as pd\n",
    "\n",
    "def wordcount (fichier_txt):\n",
    "    with open(fichier_txt, \"r\") as f:\n",
    "        lines = f.read().splitlines()  # toutes les lignes dans une liste\n",
    "        nb_lines = len(lines)\n",
    "        nb_chars = 0\n",
    "        nb_words = 0\n",
    "        for line in lines:\n",
    "            nbr_ligne=lines.count('\\n') #traitement du nombre de ligne\n",
    "            nbr_cara+=1\n",
    "            if not line.isalnum():\n",
    "                nb_words+=1\n",
    "        for char in line:\n",
    "            print(pd.Series(list(lines)).value_counts())\n",
    "            \n",
    "\n",
    "if __name__ == '__main__':\n",
    "    fichier_txt = \"Desktop/Projet-python/data-analyst-bootcamp/datasets/count.txt\"\n",
    "    print (nb_lines,nb_chars,nb_words)"
   ]
  },
  {
   "cell_type": "markdown",
   "metadata": {},
   "source": [
    "code corrigé par copilote :"
   ]
  },
  {
   "cell_type": "code",
   "execution_count": null,
   "metadata": {},
   "outputs": [],
   "source": [
    "def wordcount(fichier_txt):\n",
    "    nb_chars = nb_words = nb_line = 0\n",
    "    with open(fichier_txt, encoding=\"utf-8\") as file:\n",
    "        for line in file:\n",
    "            words = ''\n",
    "            for char in line:\n",
    "                if char.isalnum():\n",
    "                    words += char\n",
    "                else:\n",
    "                    words += ' '\n",
    "                nb_chars += 1\n",
    "\n",
    "            print(words)\n",
    "            nb_words += len(words.split())\n",
    "            nb_line += 1\n",
    "    return nb_chars, nb_words, nb_line\n",
    "\n",
    "\n",
    "if __name__ == '__main__':\n",
    "    fichier_txt = \"C:/Users/callettige/Desktop/Projet-python/data-analyst-bootcamp/datasets/count.txt\"\n",
    "    print(wordcount(fichier_txt) "
   ]
  },
  {
   "cell_type": "markdown",
   "metadata": {},
   "source": [
    "Améliorations :"
   ]
  },
  {
   "cell_type": "code",
   "execution_count": null,
   "metadata": {},
   "outputs": [],
   "source": [
    "def wordcount(fichier_txt):\n",
    "    nb_chars = nb_words = nb_line = 0\n",
    "    unique_words = set()\n",
    "    with open(fichier_txt, encoding=\"utf-8\") as file:\n",
    "        for line in file:\n",
    "            words = ''\n",
    "            for char in line:\n",
    "                if char.isalnum() or char.isspace():\n",
    "                    words += char\n",
    "                else:\n",
    "                    words += ' '\n",
    "                nb_chars += 1\n",
    "\n",
    "            word_list = words.split()\n",
    "            nb_words += len(word_list)\n",
    "            unique_words.update(word_list)\n",
    "            nb_line += 1\n",
    "\n",
    "    print(\"Le nombre de caractères (les espaces inclus) est :\", nb_chars)\n",
    "    print(\"Le nombre de mots (séparé par des espaces) est :\", nb_words)\n",
    "    print(\"Le nombre de lignes est :\", nb_line)\n",
    "    print(\"Le nombre de mots distincts ('Oui' et 'oui' sont 2 mots uniques) est :\", len(unique_words))\n",
    "\n",
    "if __name__ == '__main__':\n",
    "    fichier_txt = \"C:/Users/callettige/Desktop/Projet-python/data-analyst-bootcamp/datasets/count.txt\"\n",
    "    wordcount(fichier_txt)\n"
   ]
  },
  {
   "cell_type": "markdown",
   "metadata": {},
   "source": [
    "# Exo 16: Générateur de mots de passe"
   ]
  },
  {
   "cell_type": "markdown",
   "metadata": {},
   "source": [
    "Nous allons écrire une fonction `generateur_password` qui nous génère des mots de passe. Cette fonction est un peu particulière car elle retournera une autre fonction `password`. \n",
    "Certains sites n'acceptent que les mots de passe qu'avec des lettres, ou qu'avec des chiffres, ou acceptent des symboles comme @/$ ou simplement un mélange de tout ceci.\n",
    "\n",
    "La fonction `generateur_password` prend en entrée une chaine de caractères contenant les différents caractères possible et retourne la fonction `password` que je peux éxécuter plus tard en lui donnant le nombre de caractères que je veux dans mon mot de passe.\n",
    "\n",
    "Exemple:\n",
    "\n",
    "```python\n",
    "password = generateur_password('Aer5-/')\n",
    "mon_password = password(7)\n",
    "print(mon_password)\n",
    "> 'eA-Ae5/'\n",
    "```"
   ]
  },
  {
   "cell_type": "markdown",
   "metadata": {},
   "source": [
    "https://geekflare.com/fr/password-generator-python-code/"
   ]
  },
  {
   "cell_type": "markdown",
   "metadata": {},
   "source": [
    "L’énoncé décrit une fonction en programmation appelée generateur_password. Cette fonction est dite “d’ordre supérieur” car elle retourne une autre fonction, password.\n",
    "\n",
    "La fonction generateur_password prend en entrée une chaîne de caractères qui contient les différents caractères possibles pour un mot de passe. Par exemple, cette chaîne pourrait être ‘Aer5-/’, ce qui signifie que le mot de passe généré peut contenir les lettres ‘A’, ‘e’, ‘r’, les chiffres ‘5’, le tiret ‘-’ et le slash ‘/’.\n",
    "\n",
    "La fonction password retournée par generateur_password est ensuite utilisée pour générer un mot de passe d’une longueur spécifique. Par exemple, si vous exécutez password(7), cela générera un mot de passe de 7 caractères en utilisant les caractères possibles définis précédemment.\n",
    "\n",
    "Dans l’exemple donné, generateur_password('Aer5-/') retourne une fonction password, qui est ensuite utilisée pour générer un mot de passe de 7 caractères : mon_password = password(7). Lorsque vous imprimez mon_password, le résultat est 'eA-Ae5/', qui est un mot de passe de 7 caractères composé des caractères possibles définis précédemment.\n",
    "\n",
    "C’est une manière flexible de générer des mots de passe car vous pouvez définir les caractères possibles et la longueur du mot de passe selon vos besoins. Cela peut être utile lorsque différents sites ont des exigences différentes pour les mots de passe. Par exemple, certains sites n’acceptent que les mots de passe avec des lettres, d’autres acceptent des chiffres ou des symboles, et certains acceptent un mélange de tous ces éléments. \n",
    " \n"
   ]
  },
  {
   "cell_type": "code",
   "execution_count": null,
   "metadata": {},
   "outputs": [],
   "source": [
    "# importer les modules nécessaires\n",
    "# fonction generateur_password (chars)\n",
    "#     traitement \n",
    "# retourne fonction password(nbr_char dans mdp)"
   ]
  },
  {
   "cell_type": "code",
   "execution_count": null,
   "metadata": {},
   "outputs": [],
   "source": [
    "import random\n",
    "def generateur_password (letters,numbers,symbols):\n",
    "    print(\"Welcome to the PyPassword Generator!\")\n",
    "    nr_letters = int(input(\"How many letters would you like in your password?\\n\"))\n",
    "    nr_symbols = int(input(f\"How many symbols would you like?\\n\"))\n",
    "    nr_numbers = int(input(f\"How many numbers would you like?\\n\"))\n",
    "    password_list = []\n",
    "    for char in range(1, nr_letters + 1):\n",
    "        password_list.append(random.choice(letters))\n",
    "        for char in range(1, nr_symbols + 1):\n",
    "            password_list.append(random.choice(numbers))\n",
    "            for char in range(1, nr_numbers + 1):\n",
    "                password_list.append(random.choice(symbols))\n",
    "                random.shuffle(password_list)\n",
    "                password = \"\"\n",
    "                for char in password_list:\n",
    "                    password += char\n",
    "                    print(\"char\", char)\n",
    "                    pwd = ''.join(password_list)\n",
    "                    print(f\"Your random password to use is: {pwd}\")\n",
    "                    return password(nbr_char dans mdp)\n",
    "    \n",
    "    \n",
    "    \n",
    "if __name__ == '__main__':\n",
    "    letters = ['a', 'b', 'c', 'd', 'e', 'f', 'g', 'h', 'i', 'j', 'k', 'l', 'm', 'n', 'o', 'p', 'q', 'r', 's', 't', 'u', 'v',\n",
    "           'w', 'x', 'y', 'z', 'A', 'B', 'C', 'D', 'E', 'F', 'G', 'H', 'I', 'J', 'K', 'L', 'M', 'N', 'O', 'P', 'Q', 'R',\n",
    "           'S', 'T', 'U', 'V', 'W', 'X', 'Y', 'Z']\n",
    "    numbers = ['0', '1', '2', '3', '4', '5', '6', '7', '8', '9']\n",
    "    symbols = ['!', '#', '$', '%', '&', '(', ')', '*', '+']\n",
    "    password = generateur_password('Aer5-/')\n",
    "    mon_password = password(7)\n",
    "    print(mon_password)"
   ]
  },
  {
   "cell_type": "code",
   "execution_count": null,
   "metadata": {},
   "outputs": [],
   "source": [
    "import random\n",
    "\n",
    "class generateur_password:\n",
    "    def __init__(self, charlist):\n",
    "        self._list = charlist\n",
    "\n",
    "    def __call__(self, nombre):\n",
    "        password = ''\n",
    "        for i in range(nombre):\n",
    "            password = password + random.choice(self._list)\n",
    "        return password\n",
    "\n",
    "if __name__ == '__main__':\n",
    "    password = generateur_password('Aer5-/')\n",
    "    print(password(12))"
   ]
  },
  {
   "cell_type": "markdown",
   "metadata": {},
   "source": [
    "explication : \n",
    "    Dans le contexte de votre code, `charlist` est un paramètre de la méthode `__init__` de la classe `generateur_password`. Il représente une chaîne de caractères contenant les différents caractères possibles pour un mot de passe. Par exemple, cette chaîne pourrait être 'Aer5-/', ce qui signifie que le mot de passe généré peut contenir les lettres 'A', 'e', 'r', les chiffres '5', le tiret '-' et le slash '/'.\n",
    "\n",
    "Lorsque vous créez une instance de la classe `generateur_password`, vous passez `charlist` en argument, comme ceci : `password = generateur_password('Aer5-/')`. Dans cet exemple, 'Aer5-/' est votre `charlist`.\n",
    "\n",
    "Ensuite, lorsque vous appelez l'instance `password` comme une fonction avec un nombre en argument (par exemple, `password(12)`), cela génère un mot de passe aléatoire de 12 caractères en utilisant les caractères dans `charlist`.\n",
    "\n",
    "La méthode `__call__` est une méthode spéciale en Python qui permet à une instance d'une classe d'être appelée comme une fonction. \n",
    "\n",
    "Dans le contexte de votre code, `__call__(self, nombre)` est défini dans la classe `generateur_password`. Lorsque cette méthode est appelée, elle génère un mot de passe aléatoire de longueur `nombre` à partir des caractères possibles définis lors de la création de l'instance de la classe.\n",
    "\n",
    "Voici comment cela fonctionne :\n",
    "\n",
    "1. Vous créez une instance de la classe `generateur_password` et passez en argument les caractères possibles pour le mot de passe. Par exemple : `password = generateur_password('Aer5-/')`.\n",
    "\n",
    "2. Ensuite, vous pouvez appeler cette instance comme une fonction et passer en argument le nombre de caractères que vous voulez dans votre mot de passe. Par exemple : `password(12)`.\n",
    "\n",
    "3. Lorsque vous faites cela, la méthode `__call__` est exécutée. Elle crée une chaîne vide `password`, puis dans une boucle pour `nombre` fois, elle ajoute un caractère aléatoire (choisi parmi les caractères possibles) à la chaîne `password`.\n",
    "\n",
    "4. Enfin, elle retourne le mot de passe généré.\n",
    "\n",
    "Donc, en résumé, `def __call__(self, nombre):` définit ce qui se passe lorsque vous \"appelez\" une instance de la classe `generateur_password` comme une fonction."
   ]
  },
  {
   "cell_type": "markdown",
   "metadata": {},
   "source": [
    "# Exo 17: Modules"
   ]
  },
  {
   "cell_type": "markdown",
   "metadata": {},
   "source": [
    "Dans cet exercice, vous allez crée un module python nommée `bootcamp.py` qui contient la logique selon laquelle, un étudiant a reussi cette formation.\n",
    "\n",
    "Ce bootcamp est fait de 4 cours : \n",
    "* Les bases de Python dont le coefficient est 3\n",
    "* Le calcul numérique avec Numpy : 4\n",
    "* Manipulation des données avec Pandas : 7\n",
    "* Visualisation des données avec Matplotlib et Seaborn : 5\n",
    "\n",
    "La moyenne d'un étudiant est la moyenne coefficiée de ses notes. Pour éviter que les étudiants ratent des jours de cours, une pénalité est mise en place pour chaque jour de cours raté. Un minus de 5% est fait sur la moyenne de chaque étudiant pour chaque abscence. Un bonus de 10% de la moyenne est accordé aux étudiants n'ayant raté aucune séance de cours\n",
    "\n",
    "Avant de commencer ce bootcamp, chaque étudiant a donné son niveau en Python sur une échelle de 1 à 5. \n",
    "Pour réussir la formation, vous devrez avoir une moyenne finale de :\n",
    "* 17/20 si votre niveau est 5\n",
    "* 15/20 si votre niveau est 4\n",
    "* 14/20 si votre niveau est 3\n",
    "* 13.5/20 si votre niveau est 2\n",
    "* 12/20 si votre niveau est 1\n",
    "\n",
    "Vous êtes chargé d'écrire la logique de réussite d'un étudiant afin de faciliter la tâche au formateur. Il aimerait entrer les informations de chaque étudiant et obtenir un Oui s'il est admis et Non s'il ne l'est pas. Voici l'exemple pour un étudiant:\n",
    "\n",
    "```python\n",
    "import bootcamp\n",
    "\n",
    "resultat = bootcamp.decision(python=15, numpy=12, pandas=14.6, matplotlib=18, abscence=3, niveau=3)\n",
    "\n",
    "\n",
    "```"
   ]
  },
  {
   "cell_type": "code",
   "execution_count": null,
   "metadata": {},
   "outputs": [],
   "source": [
    "fonction decision (notes) :\n",
    "    moyenne = note*coefficient\n",
    "    if niveau == 5 : \n",
    "        resultat >= 17/20\n",
    "        if niveau == 4 :\n",
    "            resultat >= 15/20\n",
    "            if niveau == 3 :\n",
    "                resultat >= 14/20\n",
    "                if niveau == 2 :\n",
    "                    resultat >= 13.5/20\n",
    "                    if niveau == 1 :\n",
    "                        resultat >= 12/20\n",
    "    else :\n",
    "        print (\"l'etudiant n'a pas le niveau requis pour réussir\")\n",
    "\n",
    "if __name__ == '__main__':\n",
    "    notes = {\"python\":15, \"numpy\":12, \"pandas\":14.6, \"matplotlib\":18, \"abscence\":3, \"niveau\":3}\n",
    "    coefficient = "
   ]
  },
  {
   "cell_type": "code",
   "execution_count": null,
   "metadata": {},
   "outputs": [],
   "source": [
    "moyenne = 0\n",
    "somme_des_coeff = 0\n",
    "nbre_notes = int(input(\"saisissez le nombre de notes : \"))\n",
    "for i in range (1,nbre_notes+1):\n",
    " print(\"saisie de la note et du coefficient de rang \",i, \" : \")\n",
    " note=int(input(\"saisir la note : \"))\n",
    " coeff=int(input(\"saisir le coefficient de la note : \"))\n",
    " moyenne = moyenne + note * coeff\n",
    " somme_des_coeff += coeff\n",
    "print(moyenne / somme_des_coeff)"
   ]
  },
  {
   "cell_type": "markdown",
   "metadata": {},
   "source": [
    "code corrigé par copilote"
   ]
  },
  {
   "cell_type": "code",
   "execution_count": null,
   "metadata": {},
   "outputs": [],
   "source": [
    "def decision():\n",
    "    somme_des_coeff = 0\n",
    "    somme_des_notes = 0\n",
    "    nbre_notes = int(input(\"saisissez le nombre de notes : \"))\n",
    "    for i in range(1, nbre_notes + 1):\n",
    "        note = int(input(\"saisir la note : \"))\n",
    "        coeff = int(input(\"saisir le coefficient de la note : \"))\n",
    "        somme_des_notes += note * coeff\n",
    "        somme_des_coeff += coeff\n",
    "    moyenne = somme_des_notes / somme_des_coeff\n",
    "    print(\"Moyenne: \", moyenne)\n",
    "    if moyenne >= 17:\n",
    "        niveau_calculé = 5\n",
    "    elif moyenne >= 15:\n",
    "        niveau_calculé = 4\n",
    "    elif moyenne >= 14:\n",
    "        niveau_calculé = 3\n",
    "    elif moyenne >= 13.5:\n",
    "        niveau_calculé = 2\n",
    "    elif moyenne >= 12:\n",
    "        niveau_calculé = 1\n",
    "    else:\n",
    "        print(\"l'etudiant n'a pas le niveau requis pour réussir\")\n",
    "        return\n",
    "    print(\"Niveau calculé: \", niveau_calculé)\n",
    "\n",
    "    # Ajout de la question sur le niveau choisi\n",
    "    niveau_choisi = int(input(\"quel est le niveau choisi : \"))\n",
    "\n",
    "    # Vérification si le niveau choisi correspond au niveau calculé\n",
    "    if niveau_choisi <= niveau_calculé:\n",
    "        print(\"Le niveau choisi correspond au niveau calculé.\")\n",
    "    else:\n",
    "        print(\"Le niveau choisi ne correspond pas au niveau calculé.\")\n",
    "\n",
    "\n",
    "if __name__ == '__main__':\n",
    "    decision()"
   ]
  },
  {
   "cell_type": "markdown",
   "metadata": {},
   "source": [
    "# Exo 18: Programmation orientée objet"
   ]
  },
  {
   "cell_type": "markdown",
   "metadata": {},
   "source": [
    "Créez une classe Vehicule avec les attributs suivants:\n",
    "* couleur \n",
    "* distance_parcourue (km)\n",
    "* vitesse maximum (km/h)\n",
    "* vitesse actuelle (km/h)\n",
    "\n",
    "On peut donc créer un nouveau véhicule ce cette manière : \n",
    "```python\n",
    "v1 = Vehicule(couleur='bleu', vitesse_maximum='100')\n",
    "``` \n",
    "Ajoutez à la classe Vehicule les méthodes ou fonctionalités suivantes:\n",
    "* accelerer :  augmente la vitesse actuelle  sur une durée(minutes) sans dépasser la vitesse maximum\n",
    "* ralentir : diminue la vitesse sur une durée (minutes)\n",
    "* arreter : elle met à 0 la vitesse actuelle\n",
    "* la fonction `_repr_`  qui permet d'afficher le nombre de distance parcourue et l'état (arrêt, en cours) quand on fait `print(v1)` "
   ]
  },
  {
   "cell_type": "code",
   "execution_count": null,
   "metadata": {},
   "outputs": [],
   "source": [
    "# Créez une classe Vehicule avec les attributs suivants:\n",
    "class Vehicule(object):\n",
    "    def __init__(self, couleur, distance_parcourue, vitesse_maximum, vitesse_actuelle):\n",
    "        self.couleur = couleur\n",
    "        self.distance_parcourue = distance_parcourue\n",
    "        self.vitesse_maximum = vitesse_maximum\n",
    "        self.vitesse_actuelle = vitesse_actuelle\n",
    "\n",
    "    # Ajoutez à la classe Vehicule les méthodes ou fonctionalités suivantes:\n",
    "    def accelerer(self):\n",
    "        if self.vitesse_actuelle < self.vitesse_maximum:\n",
    "            self.vitesse += 10\n",
    "            self.etat = \"en marche\"\n",
    "\n",
    "    def ralentir(self):\n",
    "        if self.vitesse_actuelle > 0:\n",
    "            self.vitesse -= 10\n",
    "\n",
    "    def arreter(self):\n",
    "        self.vitesse = 0\n",
    "        self.etat = \"à l'arrêt\"\n",
    "\n",
    "\n",
    "    def afficher_vitesse(self):\n",
    "        print(f\"La vitesse de la voiture est de {self.vitesse} km/h.\")\n",
    "\n",
    "\n",
    "    def __repr__(self):\n",
    "        rep = f\"Vehicule (couleur={self.couleur}, distance_parcourue={self.distance_parcourue} km, vitesse_maximum={self.vitesse_maximum} km/h, vitesse_actuelle={self.vitesse_actuelle} km/h, etat={self.etat})\"\n",
    "\n",
    "\n",
    "        return rep\n",
    "\n",
    "if __name__ == '__main__':\n",
    "    v1 = Vehicule(couleur='bleu', vitesse_maximum='100')\n",
    "    v1.accelerer()\n",
    "    v1.ralentir()\n",
    "    v1.arreter()\n",
    "    print(v1)"
   ]
  }
 ],
 "metadata": {
  "kernelspec": {
   "display_name": "Python 3",
   "language": "python",
   "name": "python3"
  },
  "language_info": {
   "codemirror_mode": {
    "name": "ipython",
    "version": 3
   },
   "file_extension": ".py",
   "mimetype": "text/x-python",
   "name": "python",
   "nbconvert_exporter": "python",
   "pygments_lexer": "ipython3",
   "version": "3.8.5"
  }
 },
 "nbformat": 4,
 "nbformat_minor": 4
}
